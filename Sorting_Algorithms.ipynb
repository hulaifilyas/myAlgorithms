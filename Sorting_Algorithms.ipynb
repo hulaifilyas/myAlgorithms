{
 "cells": [
  {
   "cell_type": "code",
   "execution_count": 1,
   "metadata": {
    "collapsed": true
   },
   "outputs": [],
   "source": [
    "import random\n",
    "import time\n",
    "random.seed(5)"
   ]
  },
  {
   "cell_type": "code",
   "execution_count": 2,
   "metadata": {
    "collapsed": true
   },
   "outputs": [],
   "source": [
    "#Test problem\n",
    "def testSort():\n",
    "    return [\n",
    "        25, 19, 64, 20, 13, 29, 40, 82, 34, 99, 1, 3, 17, \n",
    "        81, 92, 15, 57, 56, 74, 18, 36, 72, 78, 69, 50, \n",
    "        96, 0, 58, 68, 45, 23, 37, 35, 93, 9, 83, 2, 94, \n",
    "        71, 16, 7, 33, 91, 80, 84, 5, 12, 97, 85, 53, 8, \n",
    "        55, 22, 76, 10, 44, 70, 31, 46, 86, 95, 27, 24, \n",
    "        90, 42, 30, 26, 98, 43, 73, 48, 54, 4, 39, 100, \n",
    "        6, 51, 79, 61, 62, 41, 75, 88, 38, 49, 14, 59, \n",
    "        28, 87, 32, 47, 67, 65, 77, 52, 11, 66, 21, 89, 63]\n",
    "def solution():\n",
    "    return [\n",
    "        0, 1, 2, 3, 4, 5, 6, 7, 8, 9, 10, 11, 12, 13, 14, 15, 16, \n",
    "        17, 18, 19, 20, 21, 22, 23, 24, 25, 26, 27, 28, 29, 30, \n",
    "        31, 32, 33, 34, 35, 36, 37, 38, 39, 40, 41, 42, 43, 44, \n",
    "        45, 46, 47, 48, 49, 50, 51, 52, 53, 54, 55, 56, 57, 58, \n",
    "        59, 61, 62, 63, 64, 65, 66, 67, 68, 69, 70, 71, 72, 73, \n",
    "        74, 75, 76, 77, 78, 79, 80, 81, 82, 83, 84, 85, 86, 87, \n",
    "        88, 89, 90, 91, 92, 93, 94, 95, 96, 97, 98, 99, 100\n",
    "    ]"
   ]
  },
  {
   "cell_type": "markdown",
   "metadata": {},
   "source": [
    "# Bubble Sort"
   ]
  },
  {
   "cell_type": "code",
   "execution_count": 3,
   "metadata": {
    "collapsed": true
   },
   "outputs": [],
   "source": [
    "def BubbleSort(nums):\n",
    "    n = len(nums)\n",
    "    for i in range(n):\n",
    "        swapped = False\n",
    "        for j in range(n-i-1):\n",
    "            if nums[j] > nums[j+1]:\n",
    "                nums[j], nums[j+1] = nums[j+1], nums[j]\n",
    "                swapped = True\n",
    "        if not swapped:\n",
    "            break"
   ]
  },
  {
   "cell_type": "code",
   "execution_count": 4,
   "metadata": {
    "scrolled": true
   },
   "outputs": [
    {
     "name": "stdout",
     "output_type": "stream",
     "text": [
      "True\n",
      "Wall time: 2 ms\n"
     ]
    }
   ],
   "source": [
    "%%time\n",
    "test = testSort()\n",
    "BubbleSort(test)\n",
    "print(test == solution())"
   ]
  },
  {
   "cell_type": "markdown",
   "metadata": {},
   "source": [
    "# Insertion Sort"
   ]
  },
  {
   "cell_type": "code",
   "execution_count": 5,
   "metadata": {
    "collapsed": true
   },
   "outputs": [],
   "source": [
    "def InsertSort(nums):\n",
    "    for j in range(1, len(nums)):\n",
    "        key = nums[j]\n",
    "        i = j - 1\n",
    "        while i >= 0 and nums[i] > key:\n",
    "            nums[i + 1] = nums[i]\n",
    "            i -= 1\n",
    "        nums[i + 1] = key"
   ]
  },
  {
   "cell_type": "code",
   "execution_count": 6,
   "metadata": {
    "scrolled": true
   },
   "outputs": [
    {
     "name": "stdout",
     "output_type": "stream",
     "text": [
      "True\n",
      "Wall time: 986 µs\n"
     ]
    }
   ],
   "source": [
    "%%time\n",
    "test = testSort()\n",
    "InsertSort(test)\n",
    "print(test == solution())"
   ]
  },
  {
   "cell_type": "markdown",
   "metadata": {},
   "source": [
    "# Selection Sort"
   ]
  },
  {
   "cell_type": "code",
   "execution_count": 7,
   "metadata": {
    "collapsed": true
   },
   "outputs": [],
   "source": [
    "def SelectSort(nums):\n",
    "    n = len(nums)\n",
    "    for i in range(n-1):\n",
    "        minIndex = i\n",
    "        for j in range(i+1, n):\n",
    "            if nums[j] < nums[minIndex]:\n",
    "                minIndex = j\n",
    "        nums[minIndex], nums[i] = nums[i], nums[minIndex]\n",
    "    return nums"
   ]
  },
  {
   "cell_type": "code",
   "execution_count": 8,
   "metadata": {
    "scrolled": true
   },
   "outputs": [
    {
     "name": "stdout",
     "output_type": "stream",
     "text": [
      "True\n",
      "Wall time: 986 µs\n"
     ]
    }
   ],
   "source": [
    "%%time\n",
    "test = testSort()\n",
    "SelectSort(test)\n",
    "print(test == solution())"
   ]
  },
  {
   "cell_type": "markdown",
   "metadata": {},
   "source": [
    "# Merge Sort"
   ]
  },
  {
   "cell_type": "code",
   "execution_count": 9,
   "metadata": {
    "collapsed": true
   },
   "outputs": [],
   "source": [
    "def Merge(A, p, q, r):\n",
    "    L = A[:q]\n",
    "    R = A[q:]\n",
    "    L.append(float('inf'))\n",
    "    R.append(float('inf'))\n",
    "    i, j = 0, 0\n",
    "    for k in range(p, r):\n",
    "        if L[i] <= R[j]:\n",
    "            A[k] = L[i]\n",
    "            i += 1\n",
    "        else:\n",
    "            A[k] = R[j]\n",
    "            j += 1\n",
    "            \n",
    "def MergeSort1(A, p, r):\n",
    "    if p < r:\n",
    "        q = (p + r)//2\n",
    "        MergeSort1(A, p, q)\n",
    "        MergeSort1(A, q+1, r)\n",
    "        Merge(A, p, q, r)"
   ]
  },
  {
   "cell_type": "code",
   "execution_count": 10,
   "metadata": {
    "scrolled": true
   },
   "outputs": [
    {
     "name": "stdout",
     "output_type": "stream",
     "text": [
      "Wall time: 0 ns\n"
     ]
    }
   ],
   "source": [
    "%%time\n",
    "#print(testSort(MergeSort1))"
   ]
  },
  {
   "cell_type": "code",
   "execution_count": 11,
   "metadata": {
    "collapsed": true
   },
   "outputs": [],
   "source": [
    "def MergeSort2(lst):\n",
    "    \n",
    "    n = len(lst)\n",
    "    \n",
    "    if n > 1:\n",
    "        \n",
    "        mid = n//2\n",
    "        \n",
    "        L = lst[:mid]\n",
    "        R = lst[mid:]\n",
    "        \n",
    "        MergeSort2(L)\n",
    "        MergeSort2(R)\n",
    "        \n",
    "        L.append(float('inf'))\n",
    "        R.append(float('inf'))\n",
    "        \n",
    "        for i in range(n):\n",
    "            if L[0] <= R[0]:\n",
    "                lst[i] = L.pop(0)\n",
    "            else:\n",
    "                lst[i] = R.pop(0)\n",
    "            "
   ]
  },
  {
   "cell_type": "code",
   "execution_count": 12,
   "metadata": {
    "scrolled": true
   },
   "outputs": [
    {
     "name": "stdout",
     "output_type": "stream",
     "text": [
      "True\n",
      "Wall time: 1 ms\n"
     ]
    }
   ],
   "source": [
    "%%time\n",
    "test = testSort()\n",
    "MergeSort2(test)\n",
    "print(test == solution())"
   ]
  },
  {
   "cell_type": "markdown",
   "metadata": {},
   "source": [
    "# 3-Way Merge Sort"
   ]
  },
  {
   "cell_type": "code",
   "execution_count": 13,
   "metadata": {
    "collapsed": true
   },
   "outputs": [],
   "source": [
    "def Merge3WaySort(lst):\n",
    "    n = len(lst)\n",
    "    if n > 1:\n",
    "        pt1 = n//3\n",
    "        pt2 = n*2//3\n",
    "        \n",
    "        left = lst[:pt1]\n",
    "        center = lst[pt1:pt2]\n",
    "        right = lst[pt2:]\n",
    "        #print(left, center, right)\n",
    "        \n",
    "        Merge3WaySort(left)\n",
    "        Merge3WaySort(center)\n",
    "        Merge3WaySort(right)\n",
    "        \n",
    "        left.append(float('inf'))\n",
    "        center.append(float('inf'))\n",
    "        right.append(float('inf'))\n",
    "        \n",
    "        for i in range(n):\n",
    "            l, c, r = left[0], center[0], right[0]\n",
    "            _min = min(l, c, r)\n",
    "            if _min == l:\n",
    "                lst[i] = left.pop(0)\n",
    "            elif _min == c:\n",
    "                lst[i] = center.pop(0)\n",
    "            else:\n",
    "                lst[i] = right.pop(0)\n",
    "        "
   ]
  },
  {
   "cell_type": "code",
   "execution_count": 14,
   "metadata": {
    "scrolled": true
   },
   "outputs": [
    {
     "name": "stdout",
     "output_type": "stream",
     "text": [
      "True\n",
      "Wall time: 1.02 ms\n"
     ]
    }
   ],
   "source": [
    "%%time\n",
    "test = testSort()\n",
    "Merge3WaySort(test)\n",
    "print(test == solution())"
   ]
  },
  {
   "cell_type": "markdown",
   "metadata": {},
   "source": [
    "# Heap Sort"
   ]
  },
  {
   "cell_type": "code",
   "execution_count": 15,
   "metadata": {
    "collapsed": true
   },
   "outputs": [],
   "source": [
    "def Parent(i):\n",
    "    return (i >> 1)\n",
    "def Left(i):\n",
    "    return (i << 1)\n",
    "def Right(i):\n",
    "    return (i << 1) + 1\n",
    "\n",
    "def MaxHeapify(lst, i):\n",
    "    l = Left(i)\n",
    "    r = right(i)\n",
    "    n = len(lst)\n",
    "    largest = i\n",
    "    if l < n and A[i] > A[l]:\n",
    "        largest = l\n",
    "    if r < n and A[largest] > A[r]:\n",
    "        largest = r\n",
    "    if largest != i:\n",
    "        lst[i], lst[largest] = lst[largest], lst[i]\n",
    "        MaxHeapify(lst, largest)\n",
    "\n",
    "def BuildMaxHeap(lst):\n",
    "    for i in range(len(lst)//2, 0, -1):\n",
    "        MaxHeapify(lst, i)\n",
    "\n",
    "def HeapSort1(lst):\n",
    "    n = len(lst)\n",
    "    BuildMaxHeap(lst)\n",
    "    for i in range(n, 1, -1):\n",
    "        lst[0], lst[i] = lst[i], lst[0]\n",
    "        n -= 1\n",
    "        MaxHeapify(lst, 0)"
   ]
  },
  {
   "cell_type": "code",
   "execution_count": 16,
   "metadata": {
    "scrolled": true
   },
   "outputs": [
    {
     "name": "stdout",
     "output_type": "stream",
     "text": [
      "Wall time: 0 ns\n"
     ]
    }
   ],
   "source": [
    "%%time\n",
    "#print(testSort(HeapSort1))"
   ]
  },
  {
   "cell_type": "code",
   "execution_count": 17,
   "metadata": {
    "collapsed": true
   },
   "outputs": [],
   "source": [
    "def Heapify(lst, n, i):\n",
    "    largest = i\n",
    "    left = (i << 1) + 1\n",
    "    right = (i << 1) + 2\n",
    "    \n",
    "    if left < n and lst[largest] < lst[left]:\n",
    "        largest = left\n",
    "        \n",
    "    if right < n and lst[largest] < lst[right]:\n",
    "        largest = right\n",
    "        \n",
    "    if i != largest:\n",
    "        lst[i], lst[largest] = lst[largest], lst[i]\n",
    "        Heapify(lst, n, largest)\n",
    "        \n",
    "def HeapSort2(lst):\n",
    "    n = len(lst)\n",
    "    \n",
    "    for i in range(n, -1, -1):\n",
    "        Heapify(lst, n, i)\n",
    "        \n",
    "    for i in range(n-1, 0, -1):\n",
    "        lst[i], lst[0] = lst[0], lst[i]\n",
    "        Heapify(lst, i, 0)"
   ]
  },
  {
   "cell_type": "code",
   "execution_count": 18,
   "metadata": {
    "scrolled": true
   },
   "outputs": [
    {
     "name": "stdout",
     "output_type": "stream",
     "text": [
      "True\n",
      "Wall time: 999 µs\n"
     ]
    }
   ],
   "source": [
    "%%time\n",
    "test = testSort()\n",
    "HeapSort2(test)\n",
    "print(test == solution())"
   ]
  },
  {
   "cell_type": "markdown",
   "metadata": {},
   "source": [
    "# Quick Sort"
   ]
  },
  {
   "cell_type": "code",
   "execution_count": 19,
   "metadata": {
    "collapsed": true
   },
   "outputs": [],
   "source": [
    "def QuickSort1(lst):\n",
    "    n = len(lst)\n",
    "    if n > 1:\n",
    "        pivot = lst[-1]\n",
    "        border = -1\n",
    "        for i in range(n-1):\n",
    "            if lst[i] < pivot:\n",
    "                border += 1\n",
    "                lst[border], lst[i] = lst[i], lst[border]\n",
    "        #print(lst[:border], [pivot], lst[border+1:-1])\n",
    "        return QuickSort1(lst[:border+1]) + [pivot] + QuickSort1(lst[border+1:-1])\n",
    "    return lst"
   ]
  },
  {
   "cell_type": "code",
   "execution_count": 20,
   "metadata": {
    "scrolled": true
   },
   "outputs": [
    {
     "name": "stdout",
     "output_type": "stream",
     "text": [
      "True\n",
      "Wall time: 0 ns\n"
     ]
    }
   ],
   "source": [
    "%%time\n",
    "test = testSort()\n",
    "#print(test)\n",
    "test = QuickSort1(test)\n",
    "print(test == solution())"
   ]
  },
  {
   "cell_type": "code",
   "execution_count": 21,
   "metadata": {
    "collapsed": true
   },
   "outputs": [],
   "source": [
    "def Partition(lst, lower, upper):\n",
    "    mid = lower-1\n",
    "    pivot = lst[upper]\n",
    "    for i in range(lower, upper):\n",
    "        if lst[i] < pivot:\n",
    "            mid += 1\n",
    "            lst[i], lst[mid] = lst[mid], lst[i]\n",
    "            \n",
    "    lst[mid+1], lst[upper] = lst[upper], lst[mid+1]\n",
    "    return mid+1\n",
    "\n",
    "def QuickSort2(lst, lower, upper):\n",
    "    if lower < upper:\n",
    "        p = Partition(lst, lower, upper)\n",
    "        QuickSort2(lst, lower,upper-1)\n",
    "        QuickSort2(lst, p+1, upper)"
   ]
  },
  {
   "cell_type": "code",
   "execution_count": 22,
   "metadata": {
    "scrolled": true
   },
   "outputs": [
    {
     "name": "stdout",
     "output_type": "stream",
     "text": [
      "True\n",
      "Wall time: 3 ms\n"
     ]
    }
   ],
   "source": [
    "%%time\n",
    "test = testSort()\n",
    "QuickSort2(test, 0, len(test)-1)\n",
    "print(test == solution())"
   ]
  },
  {
   "cell_type": "markdown",
   "metadata": {},
   "source": [
    "# Counting Sort"
   ]
  },
  {
   "cell_type": "code",
   "execution_count": 76,
   "metadata": {
    "collapsed": true
   },
   "outputs": [],
   "source": [
    "def CountingSort(lst):\n",
    "    n = len(lst)\n",
    "    nlst = [0] * n\n",
    "    count = [0] * 10\n",
    "    \n",
    "    for i in lst:\n",
    "        count[i] += 1\n",
    "        \n",
    "    for i in range(1, 10):\n",
    "        count[i] += count[i-1]\n",
    "        \n",
    "    for i in lst:\n",
    "        nlst[count[i]-1] = i\n",
    "        count[i] -= 1\n",
    "    \n",
    "    for i in range(n):\n",
    "        lst[i] = nlst[i]"
   ]
  },
  {
   "cell_type": "code",
   "execution_count": 78,
   "metadata": {
    "scrolled": true
   },
   "outputs": [
    {
     "name": "stdout",
     "output_type": "stream",
     "text": [
      "[4, 4, 1, 4, 8, 3, 3, 6, 5, 1]\n",
      "[1, 1, 3, 3, 4, 4, 4, 5, 6, 8]\n",
      "Wall time: 0 ns\n"
     ]
    }
   ],
   "source": [
    "%%time\n",
    "test = random.choices(range(10), k=10)\n",
    "print(test)\n",
    "CountingSort(test)\n",
    "print(test)"
   ]
  },
  {
   "cell_type": "code",
   "execution_count": 55,
   "metadata": {
    "collapsed": true,
    "scrolled": true
   },
   "outputs": [],
   "source": [
    "def CountingSortModified(lst, exp):\n",
    "    n = len(lst)\n",
    "    nlst = [0] * n\n",
    "    count = [0] * 10\n",
    "    cIndex = lambda x: (x//exp)%10\n",
    "    \n",
    "    for i in lst:\n",
    "        count[cIndex(i)] += 1\n",
    "        \n",
    "    for i in range(1, 10):\n",
    "        count[i] += count[i-1]\n",
    "    \n",
    "    for i in range(n):\n",
    "        ci = cIndex(lst[n-i-1])\n",
    "        nlst[count[ci]-1] = lst[n-i-1]\n",
    "        count[ci] -= 1\n",
    "    \n",
    "    for i in range(n):\n",
    "        lst[i] = nlst[i]"
   ]
  },
  {
   "cell_type": "code",
   "execution_count": 56,
   "metadata": {},
   "outputs": [
    {
     "name": "stdout",
     "output_type": "stream",
     "text": [
      "[63, 68, 72, 75, 15, 53, 85, 96, 38, 86, 68]\n",
      "[72, 63, 53, 75, 15, 85, 96, 86, 68, 38, 68]\n",
      "[15, 38, 53, 63, 68, 68, 72, 75, 85, 86, 96]\n",
      "Wall time: 0 ns\n"
     ]
    }
   ],
   "source": [
    "%%time\n",
    "test = random.choices(range(10,100), k=11)\n",
    "print(test)\n",
    "CountingSortModified(test, 1)\n",
    "print(test)\n",
    "CountingSortModified(test,10)\n",
    "print(test)"
   ]
  },
  {
   "cell_type": "code",
   "execution_count": 63,
   "metadata": {
    "collapsed": true,
    "scrolled": true
   },
   "outputs": [],
   "source": [
    "def CountingNegativeNumberSort(lst):\n",
    "    n = len(lst)\n",
    "    nlst = [0] * n\n",
    "    low, high = min(lst), max(lst)\n",
    "    count = {i:0 for i in range(low, high+1)}\n",
    "    \n",
    "    for i in lst:\n",
    "        count[i] += 1\n",
    "    #print('count')\n",
    "    #print(count)\n",
    "    \n",
    "    for i in range(low+1, high+1):\n",
    "        count[i] += count[i-1]\n",
    "    #print('cum count')\n",
    "    #print(count)\n",
    "\n",
    "    for i in lst:\n",
    "        nlst[count[i] - 1] = i\n",
    "        count[i] -= 1\n",
    "    \n",
    "    for i in range(n):\n",
    "        lst[i] = nlst[i]"
   ]
  },
  {
   "cell_type": "code",
   "execution_count": 64,
   "metadata": {
    "scrolled": true
   },
   "outputs": [
    {
     "name": "stdout",
     "output_type": "stream",
     "text": [
      "[-5, -2, -1, -2, -9, -1, 5, 4, 7, 3, 5, 7, 8, 6, -2, 3, 3, 7, 4, -1]\n",
      "[-9, -5, -2, -2, -2, -1, -1, -1, 3, 3, 3, 4, 4, 5, 5, 6, 7, 7, 7, 8]\n",
      "Wall time: 0 ns\n"
     ]
    }
   ],
   "source": [
    "%%time\n",
    "test = random.choices(range(-9, 10), k=20)\n",
    "print(test)\n",
    "CountingNegativeNumberSort(test)\n",
    "print(test)"
   ]
  },
  {
   "cell_type": "markdown",
   "metadata": {},
   "source": [
    "# Radix Sort"
   ]
  },
  {
   "cell_type": "code",
   "execution_count": 51,
   "metadata": {
    "collapsed": true,
    "scrolled": true
   },
   "outputs": [],
   "source": [
    "def getDigit(num, i):\n",
    "    nnum = num // 10**i\n",
    "    return nnum % 10\n",
    "\n",
    "def getDict():\n",
    "    return {i: [] for i in range(10)}\n",
    "\n",
    "def RadixSort1(lst):\n",
    "    maxSigFig = len(str(max(lst)))\n",
    "    for i in range(maxSigFig):\n",
    "        numDict = getDict()\n",
    "        for num in lst:\n",
    "            numDict[getDigit(num, i)].append(num)\n",
    "        combined = []\n",
    "        for i in numDict.values():\n",
    "            combined += i\n",
    "        for i in range(len(lst)):\n",
    "            lst[i] = combined[i]"
   ]
  },
  {
   "cell_type": "code",
   "execution_count": 52,
   "metadata": {
    "scrolled": true
   },
   "outputs": [
    {
     "name": "stdout",
     "output_type": "stream",
     "text": [
      "[0, 1, 2, 3, 4, 5, 6, 7, 8, 9, 10, 11, 12, 13, 14, 15, 16, 17, 18, 19, 20, 21, 22, 23, 24, 25, 26, 27, 28, 29, 30, 31, 32, 33, 34, 35, 36, 37, 38, 39, 40, 41, 42, 43, 44, 45, 46, 47, 48, 49, 50, 51, 52, 53, 54, 55, 56, 57, 58, 59, 61, 62, 63, 64, 65, 66, 67, 68, 69, 70, 71, 72, 73, 74, 75, 76, 77, 78, 79, 80, 81, 82, 83, 84, 85, 86, 87, 88, 89, 90, 91, 92, 93, 94, 95, 96, 97, 98, 99, 100]\n",
      "Wall time: 0 ns\n"
     ]
    }
   ],
   "source": [
    "%%time\n",
    "test = testSort()\n",
    "RadixSort1(test)\n",
    "print(test)"
   ]
  },
  {
   "cell_type": "code",
   "execution_count": 57,
   "metadata": {
    "collapsed": true
   },
   "outputs": [],
   "source": [
    "def RadixSort2(lst):\n",
    "    _max = max(lst)\n",
    "    exp = 1\n",
    "    while _max > 0:\n",
    "        CountingSortModified(lst, exp)\n",
    "        _max //= 10\n",
    "        exp *= 10"
   ]
  },
  {
   "cell_type": "code",
   "execution_count": 62,
   "metadata": {
    "scrolled": true
   },
   "outputs": [
    {
     "name": "stdout",
     "output_type": "stream",
     "text": [
      "[20, 22, 42, 110, 154, 212, 257, 441, 577, 624, 670, 901, 1010, 1071, 1203, 1291, 1336, 1483, 1601, 1668, 2021, 2033, 2209, 2297, 2389, 2612, 2744, 2827, 3007, 3071, 3131, 3344, 3405, 3406, 3699, 3734, 3855, 3893, 4152, 4206, 4213, 4292, 4354, 4389, 4450, 4586, 4771, 4791, 4950, 5042, 5056, 5222, 5356, 5818, 5971, 6144, 6147, 6177, 6238, 6450, 6513, 6554, 6569, 6616, 6761, 6864, 6895, 7118, 7162, 7285, 7290, 7321, 7355, 7436, 7572, 7578, 7663, 7676, 7717, 7910, 7954, 7962, 8031, 8292, 8349, 8372, 8378, 8407, 8511, 8527, 8532, 8770, 8846, 8945, 9195, 9437, 9534, 9743, 9764, 9895]\n",
      "Wall time: 0 ns\n"
     ]
    }
   ],
   "source": [
    "%%time\n",
    "test = random.choices(range(10, 10000), k=100)\n",
    "RadixSort2(test)\n",
    "print(test)"
   ]
  },
  {
   "cell_type": "markdown",
   "metadata": {},
   "source": [
    "# Bucket Sort"
   ]
  },
  {
   "cell_type": "code",
   "execution_count": 33,
   "metadata": {
    "collapsed": true
   },
   "outputs": [],
   "source": [
    "def BucketSort(lst):\n",
    "    bucket = getDict()\n",
    "    nlst = []\n",
    "    \n",
    "    for i in lst:\n",
    "        bucket[int(i*10)].append(i)\n",
    "\n",
    "    for v in bucket.values():\n",
    "        if len(v):\n",
    "            InsertSort(v)\n",
    "            nlst += v\n",
    "    \n",
    "    for i in range(len(lst)):\n",
    "        lst[i] = nlst[i]"
   ]
  },
  {
   "cell_type": "code",
   "execution_count": 86,
   "metadata": {},
   "outputs": [
    {
     "name": "stdout",
     "output_type": "stream",
     "text": [
      "[0.0342283653728751, 0.1616630084417935, 0.17739001188788894, 0.31955939419172263, 0.332186501681917, 0.45655556989138424, 0.47450619933559945, 0.5100493771132577, 0.6194000651138397, 0.6249933770933154, 0.6565204354520258, 0.6935399695992942, 0.8417195041942752, 0.8475099357864422, 0.8534141361367749]\n",
      "Wall time: 999 µs\n"
     ]
    }
   ],
   "source": [
    "%%time\n",
    "test = [random.random() for i in range(15)]\n",
    "BucketSort(test)\n",
    "print(test)"
   ]
  },
  {
   "cell_type": "markdown",
   "metadata": {},
   "source": [
    "# Shell Sort"
   ]
  },
  {
   "cell_type": "code",
   "execution_count": 87,
   "metadata": {
    "collapsed": true
   },
   "outputs": [],
   "source": [
    "def ShellSort1(lst): \n",
    "    n = len(lst) \n",
    "    gap = n // 2\n",
    "    \n",
    "    while gap > 0:\n",
    "        for i in range(gap,n):\n",
    "            temp = lst[i]\n",
    "            \n",
    "            j = i \n",
    "            while  j >= gap and lst[j-gap] > temp: \n",
    "                lst[j] = lst[j - gap] \n",
    "                j -= gap \n",
    "\n",
    "            lst[j] = temp \n",
    "        gap //= 2"
   ]
  },
  {
   "cell_type": "code",
   "execution_count": 88,
   "metadata": {},
   "outputs": [
    {
     "name": "stdout",
     "output_type": "stream",
     "text": [
      "[1, 1, 5, 5, 11, 12, 13, 14, 14, 14]\n"
     ]
    }
   ],
   "source": [
    "test = random.choices(range(15), k=10)\n",
    "ShellSort1(test)\n",
    "print(test)"
   ]
  },
  {
   "cell_type": "code",
   "execution_count": 195,
   "metadata": {
    "collapsed": true
   },
   "outputs": [],
   "source": [
    "def ShellSort2(lst):\n",
    "    n = len(lst)\n",
    "    gap = n >> 1\n",
    "    while gap > 0:\n",
    "        \n",
    "        for i in range(gap, n):\n",
    "            grab = lst[i]\n",
    "            j = i - gap\n",
    "            \n",
    "            while j >= 0 and lst[j] > grab:\n",
    "                lst[j + gap] = lst[j]\n",
    "                lst[j] = grab\n",
    "                j -= gap\n",
    "\n",
    "        gap >>= 1"
   ]
  },
  {
   "cell_type": "code",
   "execution_count": 201,
   "metadata": {},
   "outputs": [
    {
     "name": "stdout",
     "output_type": "stream",
     "text": [
      "[2, 130, 60, 108, 186, 141, 18, 123, 67, 51, 114, 4, 114]\n",
      "[2, 4, 18, 51, 60, 67, 108, 114, 114, 123, 130, 141, 186]\n",
      "Wall time: 0 ns\n"
     ]
    }
   ],
   "source": [
    "%%time\n",
    "random.seed(56)\n",
    "test = random.choices(range(200), k=random.randint(5, 15))\n",
    "print(test)\n",
    "ShellSort2(test)\n",
    "print(test)"
   ]
  }
 ],
 "metadata": {
  "kernelspec": {
   "display_name": "Python 3",
   "language": "python",
   "name": "python3"
  },
  "language_info": {
   "codemirror_mode": {
    "name": "ipython",
    "version": 3
   },
   "file_extension": ".py",
   "mimetype": "text/x-python",
   "name": "python",
   "nbconvert_exporter": "python",
   "pygments_lexer": "ipython3",
   "version": "3.6.3"
  }
 },
 "nbformat": 4,
 "nbformat_minor": 2
}
